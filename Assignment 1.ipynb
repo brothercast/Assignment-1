{
 "cells": [
  {
   "cell_type": "markdown",
   "id": "ca9f7b00",
   "metadata": {},
   "source": [
    "# Udacity Data Science Nanodegree\n",
    "## Assignment 1\n",
    "\n",
    "### CRISP-DM Process:\n",
    "\n",
    "#### Business Understanding\n",
    "I chose the Seattle AirBnB dataset as I live in Seattle and it seemed like a good place to start. There are a lot of headlines about the impact of AirBNB on the housing and rental market in the United States. As someone who also works in equitable housing, I wanted to dig into some of the data to see if there are any interesting correlations between the AirBNB hosts who have many listings in an area, and whether the ratings of the listings are positive or negative.\n",
    "\n",
    "The questions are regarding the the relationship between hosts and their ratings such as:\n",
    "- Do hosts with more listings correlate to lower overall review scores?\n",
    "- Do the number of ratings demonstrate positive or negative experiences?  (i.e. do properties with the most ratings trend favorably or negatively)\n",
    "- Do strict cancellation policies correlate to increased negative reviews?"
   ]
  },
  {
   "cell_type": "code",
   "execution_count": 2,
   "id": "8daef38c",
   "metadata": {},
   "outputs": [],
   "source": [
    "# Import Modules\n",
    "\n",
    "import numpy as np  \n",
    "import pandas as pd\n",
    "import matplotlib.pyplot as plt\n",
    "from sklearn.linear_model import LinearRegression\n",
    "from sklearn.model_selection import train_test_split\n",
    "from sklearn.metrics import r2_score, mean_squared_error\n",
    "%matplotlib inline\n"
   ]
  },
  {
   "cell_type": "markdown",
   "id": "54c85b06",
   "metadata": {},
   "source": [
    "#### Data Understanding"
   ]
  },
  {
   "cell_type": "code",
   "execution_count": 107,
   "id": "39d39fa7",
   "metadata": {},
   "outputs": [
    {
     "data": {
      "text/html": [
       "<div>\n",
       "<style scoped>\n",
       "    .dataframe tbody tr th:only-of-type {\n",
       "        vertical-align: middle;\n",
       "    }\n",
       "\n",
       "    .dataframe tbody tr th {\n",
       "        vertical-align: top;\n",
       "    }\n",
       "\n",
       "    .dataframe thead th {\n",
       "        text-align: right;\n",
       "    }\n",
       "</style>\n",
       "<table border=\"1\" class=\"dataframe\">\n",
       "  <thead>\n",
       "    <tr style=\"text-align: right;\">\n",
       "      <th></th>\n",
       "      <th>id</th>\n",
       "      <th>listing_url</th>\n",
       "      <th>scrape_id</th>\n",
       "      <th>last_scraped</th>\n",
       "      <th>name</th>\n",
       "      <th>summary</th>\n",
       "      <th>space</th>\n",
       "      <th>description</th>\n",
       "      <th>experiences_offered</th>\n",
       "      <th>neighborhood_overview</th>\n",
       "      <th>...</th>\n",
       "      <th>review_scores_value</th>\n",
       "      <th>requires_license</th>\n",
       "      <th>license</th>\n",
       "      <th>jurisdiction_names</th>\n",
       "      <th>instant_bookable</th>\n",
       "      <th>cancellation_policy</th>\n",
       "      <th>require_guest_profile_picture</th>\n",
       "      <th>require_guest_phone_verification</th>\n",
       "      <th>calculated_host_listings_count</th>\n",
       "      <th>reviews_per_month</th>\n",
       "    </tr>\n",
       "  </thead>\n",
       "  <tbody>\n",
       "    <tr>\n",
       "      <th>0</th>\n",
       "      <td>241032</td>\n",
       "      <td>https://www.airbnb.com/rooms/241032</td>\n",
       "      <td>20160104002432</td>\n",
       "      <td>2016-01-04</td>\n",
       "      <td>Stylish Queen Anne Apartment</td>\n",
       "      <td>NaN</td>\n",
       "      <td>Make your self at home in this charming one-be...</td>\n",
       "      <td>Make your self at home in this charming one-be...</td>\n",
       "      <td>none</td>\n",
       "      <td>NaN</td>\n",
       "      <td>...</td>\n",
       "      <td>10.0</td>\n",
       "      <td>f</td>\n",
       "      <td>NaN</td>\n",
       "      <td>WASHINGTON</td>\n",
       "      <td>f</td>\n",
       "      <td>moderate</td>\n",
       "      <td>f</td>\n",
       "      <td>f</td>\n",
       "      <td>2</td>\n",
       "      <td>4.07</td>\n",
       "    </tr>\n",
       "    <tr>\n",
       "      <th>1</th>\n",
       "      <td>953595</td>\n",
       "      <td>https://www.airbnb.com/rooms/953595</td>\n",
       "      <td>20160104002432</td>\n",
       "      <td>2016-01-04</td>\n",
       "      <td>Bright &amp; Airy Queen Anne Apartment</td>\n",
       "      <td>Chemically sensitive? We've removed the irrita...</td>\n",
       "      <td>Beautiful, hypoallergenic apartment in an extr...</td>\n",
       "      <td>Chemically sensitive? We've removed the irrita...</td>\n",
       "      <td>none</td>\n",
       "      <td>Queen Anne is a wonderful, truly functional vi...</td>\n",
       "      <td>...</td>\n",
       "      <td>10.0</td>\n",
       "      <td>f</td>\n",
       "      <td>NaN</td>\n",
       "      <td>WASHINGTON</td>\n",
       "      <td>f</td>\n",
       "      <td>strict</td>\n",
       "      <td>t</td>\n",
       "      <td>t</td>\n",
       "      <td>6</td>\n",
       "      <td>1.48</td>\n",
       "    </tr>\n",
       "    <tr>\n",
       "      <th>2</th>\n",
       "      <td>3308979</td>\n",
       "      <td>https://www.airbnb.com/rooms/3308979</td>\n",
       "      <td>20160104002432</td>\n",
       "      <td>2016-01-04</td>\n",
       "      <td>New Modern House-Amazing water view</td>\n",
       "      <td>New modern house built in 2013.  Spectacular s...</td>\n",
       "      <td>Our house is modern, light and fresh with a wa...</td>\n",
       "      <td>New modern house built in 2013.  Spectacular s...</td>\n",
       "      <td>none</td>\n",
       "      <td>Upper Queen Anne is a charming neighborhood fu...</td>\n",
       "      <td>...</td>\n",
       "      <td>10.0</td>\n",
       "      <td>f</td>\n",
       "      <td>NaN</td>\n",
       "      <td>WASHINGTON</td>\n",
       "      <td>f</td>\n",
       "      <td>strict</td>\n",
       "      <td>f</td>\n",
       "      <td>f</td>\n",
       "      <td>2</td>\n",
       "      <td>1.15</td>\n",
       "    </tr>\n",
       "    <tr>\n",
       "      <th>3</th>\n",
       "      <td>7421966</td>\n",
       "      <td>https://www.airbnb.com/rooms/7421966</td>\n",
       "      <td>20160104002432</td>\n",
       "      <td>2016-01-04</td>\n",
       "      <td>Queen Anne Chateau</td>\n",
       "      <td>A charming apartment that sits atop Queen Anne...</td>\n",
       "      <td>NaN</td>\n",
       "      <td>A charming apartment that sits atop Queen Anne...</td>\n",
       "      <td>none</td>\n",
       "      <td>NaN</td>\n",
       "      <td>...</td>\n",
       "      <td>NaN</td>\n",
       "      <td>f</td>\n",
       "      <td>NaN</td>\n",
       "      <td>WASHINGTON</td>\n",
       "      <td>f</td>\n",
       "      <td>flexible</td>\n",
       "      <td>f</td>\n",
       "      <td>f</td>\n",
       "      <td>1</td>\n",
       "      <td>NaN</td>\n",
       "    </tr>\n",
       "    <tr>\n",
       "      <th>4</th>\n",
       "      <td>278830</td>\n",
       "      <td>https://www.airbnb.com/rooms/278830</td>\n",
       "      <td>20160104002432</td>\n",
       "      <td>2016-01-04</td>\n",
       "      <td>Charming craftsman 3 bdm house</td>\n",
       "      <td>Cozy family craftman house in beautiful neighb...</td>\n",
       "      <td>Cozy family craftman house in beautiful neighb...</td>\n",
       "      <td>Cozy family craftman house in beautiful neighb...</td>\n",
       "      <td>none</td>\n",
       "      <td>We are in the beautiful neighborhood of Queen ...</td>\n",
       "      <td>...</td>\n",
       "      <td>9.0</td>\n",
       "      <td>f</td>\n",
       "      <td>NaN</td>\n",
       "      <td>WASHINGTON</td>\n",
       "      <td>f</td>\n",
       "      <td>strict</td>\n",
       "      <td>f</td>\n",
       "      <td>f</td>\n",
       "      <td>1</td>\n",
       "      <td>0.89</td>\n",
       "    </tr>\n",
       "  </tbody>\n",
       "</table>\n",
       "<p>5 rows × 92 columns</p>\n",
       "</div>"
      ],
      "text/plain": [
       "        id                           listing_url       scrape_id last_scraped  \\\n",
       "0   241032   https://www.airbnb.com/rooms/241032  20160104002432   2016-01-04   \n",
       "1   953595   https://www.airbnb.com/rooms/953595  20160104002432   2016-01-04   \n",
       "2  3308979  https://www.airbnb.com/rooms/3308979  20160104002432   2016-01-04   \n",
       "3  7421966  https://www.airbnb.com/rooms/7421966  20160104002432   2016-01-04   \n",
       "4   278830   https://www.airbnb.com/rooms/278830  20160104002432   2016-01-04   \n",
       "\n",
       "                                  name  \\\n",
       "0         Stylish Queen Anne Apartment   \n",
       "1   Bright & Airy Queen Anne Apartment   \n",
       "2  New Modern House-Amazing water view   \n",
       "3                   Queen Anne Chateau   \n",
       "4       Charming craftsman 3 bdm house   \n",
       "\n",
       "                                             summary  \\\n",
       "0                                                NaN   \n",
       "1  Chemically sensitive? We've removed the irrita...   \n",
       "2  New modern house built in 2013.  Spectacular s...   \n",
       "3  A charming apartment that sits atop Queen Anne...   \n",
       "4  Cozy family craftman house in beautiful neighb...   \n",
       "\n",
       "                                               space  \\\n",
       "0  Make your self at home in this charming one-be...   \n",
       "1  Beautiful, hypoallergenic apartment in an extr...   \n",
       "2  Our house is modern, light and fresh with a wa...   \n",
       "3                                                NaN   \n",
       "4  Cozy family craftman house in beautiful neighb...   \n",
       "\n",
       "                                         description experiences_offered  \\\n",
       "0  Make your self at home in this charming one-be...                none   \n",
       "1  Chemically sensitive? We've removed the irrita...                none   \n",
       "2  New modern house built in 2013.  Spectacular s...                none   \n",
       "3  A charming apartment that sits atop Queen Anne...                none   \n",
       "4  Cozy family craftman house in beautiful neighb...                none   \n",
       "\n",
       "                               neighborhood_overview  ... review_scores_value  \\\n",
       "0                                                NaN  ...                10.0   \n",
       "1  Queen Anne is a wonderful, truly functional vi...  ...                10.0   \n",
       "2  Upper Queen Anne is a charming neighborhood fu...  ...                10.0   \n",
       "3                                                NaN  ...                 NaN   \n",
       "4  We are in the beautiful neighborhood of Queen ...  ...                 9.0   \n",
       "\n",
       "  requires_license license jurisdiction_names instant_bookable  \\\n",
       "0                f     NaN         WASHINGTON                f   \n",
       "1                f     NaN         WASHINGTON                f   \n",
       "2                f     NaN         WASHINGTON                f   \n",
       "3                f     NaN         WASHINGTON                f   \n",
       "4                f     NaN         WASHINGTON                f   \n",
       "\n",
       "  cancellation_policy  require_guest_profile_picture  \\\n",
       "0            moderate                              f   \n",
       "1              strict                              t   \n",
       "2              strict                              f   \n",
       "3            flexible                              f   \n",
       "4              strict                              f   \n",
       "\n",
       "  require_guest_phone_verification calculated_host_listings_count  \\\n",
       "0                                f                              2   \n",
       "1                                t                              6   \n",
       "2                                f                              2   \n",
       "3                                f                              1   \n",
       "4                                f                              1   \n",
       "\n",
       "  reviews_per_month  \n",
       "0              4.07  \n",
       "1              1.48  \n",
       "2              1.15  \n",
       "3               NaN  \n",
       "4              0.89  \n",
       "\n",
       "[5 rows x 92 columns]"
      ]
     },
     "execution_count": 107,
     "metadata": {},
     "output_type": "execute_result"
    }
   ],
   "source": [
    "# This is an analysis of data from Airbnb in the Seattle Region.\n",
    "# # listings.csv contains all of the Airbnb listings in the Seattle region.\n",
    "# We will import the file as a dataframe. From there, we will analyze the data and create visualizations \n",
    "# to help us understand the data\n",
    "listings_df = pd.read_csv('listings.csv')\n",
    "listings_df.head()"
   ]
  },
  {
   "cell_type": "markdown",
   "id": "5f112ed5",
   "metadata": {},
   "source": [
    "#### Prepare Data"
   ]
  },
  {
   "cell_type": "markdown",
   "metadata": {},
   "source": [
    "# Question 1: \n",
    "### Do hosts with more listings correlate to lower overall review scores?"
   ]
  },
  {
   "cell_type": "code",
   "execution_count": 63,
   "id": "3b734596",
   "metadata": {},
   "outputs": [
    {
     "data": {
      "text/html": [
       "<div>\n",
       "<style scoped>\n",
       "    .dataframe tbody tr th:only-of-type {\n",
       "        vertical-align: middle;\n",
       "    }\n",
       "\n",
       "    .dataframe tbody tr th {\n",
       "        vertical-align: top;\n",
       "    }\n",
       "\n",
       "    .dataframe thead th {\n",
       "        text-align: right;\n",
       "    }\n",
       "</style>\n",
       "<table border=\"1\" class=\"dataframe\">\n",
       "  <thead>\n",
       "    <tr style=\"text-align: right;\">\n",
       "      <th></th>\n",
       "      <th>host_total_listings_count</th>\n",
       "      <th>review_scores_rating</th>\n",
       "    </tr>\n",
       "    <tr>\n",
       "      <th>host_id</th>\n",
       "      <th></th>\n",
       "      <th></th>\n",
       "    </tr>\n",
       "  </thead>\n",
       "  <tbody>\n",
       "    <tr>\n",
       "      <th>8534462</th>\n",
       "      <td>46</td>\n",
       "      <td>41</td>\n",
       "    </tr>\n",
       "    <tr>\n",
       "      <th>4962900</th>\n",
       "      <td>39</td>\n",
       "      <td>37</td>\n",
       "    </tr>\n",
       "    <tr>\n",
       "      <th>3074414</th>\n",
       "      <td>34</td>\n",
       "      <td>34</td>\n",
       "    </tr>\n",
       "    <tr>\n",
       "      <th>74305</th>\n",
       "      <td>33</td>\n",
       "      <td>31</td>\n",
       "    </tr>\n",
       "    <tr>\n",
       "      <th>430709</th>\n",
       "      <td>36</td>\n",
       "      <td>29</td>\n",
       "    </tr>\n",
       "  </tbody>\n",
       "</table>\n",
       "</div>"
      ],
      "text/plain": [
       "         host_total_listings_count  review_scores_rating\n",
       "host_id                                                 \n",
       "8534462                         46                    41\n",
       "4962900                         39                    37\n",
       "3074414                         34                    34\n",
       "74305                           33                    31\n",
       "430709                          36                    29"
      ]
     },
     "execution_count": 63,
     "metadata": {},
     "output_type": "execute_result"
    }
   ],
   "source": [
    "multi_host_df = listings_df[['host_id', 'host_total_listings_count', 'review_scores_rating']].groupby('host_id').count().sort_values(by='review_scores_rating', ascending=False)\n",
    "multi_host_df.head()"
   ]
  },
  {
   "cell_type": "markdown",
   "id": "0bad436b",
   "metadata": {},
   "source": [
    "#### Data Modeling\n"
   ]
  },
  {
   "cell_type": "code",
   "execution_count": 33,
   "id": "255ccabe",
   "metadata": {},
   "outputs": [
    {
     "data": {
      "text/plain": [
       "<AxesSubplot:title={'center':'Hosts with More Listings vs Lower Review Scores'}, xlabel='host_total_listings_count', ylabel='review_scores_rating'>"
      ]
     },
     "execution_count": 33,
     "metadata": {},
     "output_type": "execute_result"
    },
    {
     "data": {
      "image/png": "[encoded data removed]",
      "text/plain": [
       "<Figure size 432x288 with 1 Axes>"
      ]
     },
     "metadata": {},
     "output_type": "display_data"
    }
   ],
   "source": [
    "# Plotting the data\n",
    "multi_host_df.plot(kind = 'scatter', x = 'host_total_listings_count', y = 'review_scores_rating', title = 'Hosts with More Listings vs Lower Review Scores')"
   ]
  },
  {
   "cell_type": "markdown",
   "id": "61cea22f",
   "metadata": {},
   "source": [
    "When looking at the graph, we can see that there is a negative correlation between the amount of listings a host has, and the review score they receive."
   ]
  },
  {
   "cell_type": "code",
   "execution_count": 39,
   "id": "75027018",
   "metadata": {},
   "outputs": [
    {
     "name": "stdout",
     "output_type": "stream",
     "text": [
      "Model Score: 0.4617081221381967.\n",
      "Mean squared error: 0.30522736111180876.\n"
     ]
    }
   ],
   "source": [
    "# Using linear regression to see what the correlation between the two is\n",
    "X = multi_host_df[['host_total_listings_count']]\n",
    "y = multi_host_df['review_scores_rating']\n",
    "X_train, X_test, y_train, y_test = train_test_split(X, y, random_state=42)\n",
    "lr_model = LinearRegression()\n",
    "lr_model.fit(X_train, y_train)\n",
    "y_predict = lr_model.predict(X_test)\n",
    "# Printing the r-squared score, which determines how well the model fits the data.\n",
    "# R-squared ranges from 0 to 1, so we want to see a high number here\n",
    "print(f\"Model Score: {lr_model.score(X_test, y_test)}.\")\n",
    "print(f\"Mean squared error: {mean_squared_error(y_test, y_predict)}.\")"
   ]
  },
  {
   "cell_type": "markdown",
   "id": "5d59d70b",
   "metadata": {},
   "source": [
    " We can see from  the r-squared score that the model is a fit, but is not a strong fit. This is because the r-squared value is less than 0.5. We can also see that the mean squared error is very high, so the predictions are not very good.\n",
    "\n",
    " It does indeed seem like there is a negative correlation between the amount of listings a host has, and the review score they receive!"
   ]
  },
  {
   "cell_type": "markdown",
   "id": "9d9058fa",
   "metadata": {},
   "source": [
    "# Question 2:\n",
    "### Do the number of ratings demonstrate positive or negative experiences?  (i.e. do properties with the most ratings trend favorably or negatively)"
   ]
  },
  {
   "cell_type": "code",
   "execution_count": 55,
   "id": "2f014c3c",
   "metadata": {},
   "outputs": [
    {
     "data": {
      "text/plain": [
       "8534462     46\n",
       "4962900     39\n",
       "1243056     37\n",
       "430709      36\n",
       "3074414     34\n",
       "            ..\n",
       "36448928     1\n",
       "2028319      1\n",
       "791459       1\n",
       "1201633      1\n",
       "14703116     1\n",
       "Name: host_id, Length: 2751, dtype: int64"
      ]
     },
     "execution_count": 55,
     "metadata": {},
     "output_type": "execute_result"
    }
   ],
   "source": [
    "listings_df['host_id'].value_counts()"
   ]
  },
  {
   "cell_type": "code",
   "execution_count": 58,
   "id": "b9bd0088",
   "metadata": {},
   "outputs": [
    {
     "data": {
      "text/html": [
       "<div>\n",
       "<style scoped>\n",
       "    .dataframe tbody tr th:only-of-type {\n",
       "        vertical-align: middle;\n",
       "    }\n",
       "\n",
       "    .dataframe tbody tr th {\n",
       "        vertical-align: top;\n",
       "    }\n",
       "\n",
       "    .dataframe thead th {\n",
       "        text-align: right;\n",
       "    }\n",
       "</style>\n",
       "<table border=\"1\" class=\"dataframe\">\n",
       "  <thead>\n",
       "    <tr style=\"text-align: right;\">\n",
       "      <th></th>\n",
       "      <th>number_of_reviews</th>\n",
       "      <th>calculated_host_listings_count</th>\n",
       "      <th>review_scores_rating</th>\n",
       "      <th>avg_review_score</th>\n",
       "    </tr>\n",
       "    <tr>\n",
       "      <th>host_id</th>\n",
       "      <th></th>\n",
       "      <th></th>\n",
       "      <th></th>\n",
       "      <th></th>\n",
       "    </tr>\n",
       "  </thead>\n",
       "  <tbody>\n",
       "    <tr>\n",
       "      <th>8534462</th>\n",
       "      <td>46</td>\n",
       "      <td>46</td>\n",
       "      <td>41</td>\n",
       "      <td>0.891304</td>\n",
       "    </tr>\n",
       "    <tr>\n",
       "      <th>4962900</th>\n",
       "      <td>39</td>\n",
       "      <td>39</td>\n",
       "      <td>37</td>\n",
       "      <td>0.948718</td>\n",
       "    </tr>\n",
       "    <tr>\n",
       "      <th>1243056</th>\n",
       "      <td>37</td>\n",
       "      <td>37</td>\n",
       "      <td>28</td>\n",
       "      <td>0.756757</td>\n",
       "    </tr>\n",
       "    <tr>\n",
       "      <th>430709</th>\n",
       "      <td>36</td>\n",
       "      <td>36</td>\n",
       "      <td>29</td>\n",
       "      <td>0.805556</td>\n",
       "    </tr>\n",
       "    <tr>\n",
       "      <th>3074414</th>\n",
       "      <td>34</td>\n",
       "      <td>34</td>\n",
       "      <td>34</td>\n",
       "      <td>1.000000</td>\n",
       "    </tr>\n",
       "    <tr>\n",
       "      <th>...</th>\n",
       "      <td>...</td>\n",
       "      <td>...</td>\n",
       "      <td>...</td>\n",
       "      <td>...</td>\n",
       "    </tr>\n",
       "    <tr>\n",
       "      <th>21505796</th>\n",
       "      <td>1</td>\n",
       "      <td>1</td>\n",
       "      <td>1</td>\n",
       "      <td>1.000000</td>\n",
       "    </tr>\n",
       "    <tr>\n",
       "      <th>21473544</th>\n",
       "      <td>1</td>\n",
       "      <td>1</td>\n",
       "      <td>1</td>\n",
       "      <td>1.000000</td>\n",
       "    </tr>\n",
       "    <tr>\n",
       "      <th>21420064</th>\n",
       "      <td>1</td>\n",
       "      <td>1</td>\n",
       "      <td>0</td>\n",
       "      <td>0.000000</td>\n",
       "    </tr>\n",
       "    <tr>\n",
       "      <th>21409235</th>\n",
       "      <td>1</td>\n",
       "      <td>1</td>\n",
       "      <td>1</td>\n",
       "      <td>1.000000</td>\n",
       "    </tr>\n",
       "    <tr>\n",
       "      <th>13370163</th>\n",
       "      <td>1</td>\n",
       "      <td>1</td>\n",
       "      <td>1</td>\n",
       "      <td>1.000000</td>\n",
       "    </tr>\n",
       "  </tbody>\n",
       "</table>\n",
       "<p>2751 rows × 4 columns</p>\n",
       "</div>"
      ],
      "text/plain": [
       "          number_of_reviews  calculated_host_listings_count  \\\n",
       "host_id                                                       \n",
       "8534462                  46                              46   \n",
       "4962900                  39                              39   \n",
       "1243056                  37                              37   \n",
       "430709                   36                              36   \n",
       "3074414                  34                              34   \n",
       "...                     ...                             ...   \n",
       "21505796                  1                               1   \n",
       "21473544                  1                               1   \n",
       "21420064                  1                               1   \n",
       "21409235                  1                               1   \n",
       "13370163                  1                               1   \n",
       "\n",
       "          review_scores_rating  avg_review_score  \n",
       "host_id                                           \n",
       "8534462                     41          0.891304  \n",
       "4962900                     37          0.948718  \n",
       "1243056                     28          0.756757  \n",
       "430709                      29          0.805556  \n",
       "3074414                     34          1.000000  \n",
       "...                        ...               ...  \n",
       "21505796                     1          1.000000  \n",
       "21473544                     1          1.000000  \n",
       "21420064                     0          0.000000  \n",
       "21409235                     1          1.000000  \n",
       "13370163                     1          1.000000  \n",
       "\n",
       "[2751 rows x 4 columns]"
      ]
     },
     "execution_count": 58,
     "metadata": {},
     "output_type": "execute_result"
    }
   ],
   "source": [
    "many_reviews = listings_df[['host_id', 'number_of_reviews', 'calculated_host_listings_count', 'review_scores_rating']].groupby('host_id').count().sort_values(by='host_id', ascending=False)\n",
    "many_reviews['avg_review_score'] = many_reviews['review_scores_rating']/many_reviews['number_of_reviews']\n",
    "many_reviews.sort_values(by='number_of_reviews', ascending=False)\n"
   ]
  },
  {
   "cell_type": "markdown",
   "id": "e4561cdd",
   "metadata": {},
   "source": [
    " For a property with more ratings, we can assume that the more people have stayed there and have been more exposed to the host and the listing.\n",
    " For this reason, we can assume that having more reviews is a good thing. \n",
    "\n",
    " However, we cannot assume that because a property has more reviews, it has better ratings. \n",
    " \n",
    " Therefore, we will also look to see if having more reviews (more data) means that the property has a higher rating.\n",
    " The null hypothesis for this test is that the number of ratings does not have an impact on the rating.\n",
    " The alternative hypothesis is that the number of ratings impacts the property's rating positively. "
   ]
  },
  {
   "cell_type": "code",
   "execution_count": 61,
   "id": "9f24d4bc",
   "metadata": {},
   "outputs": [
    {
     "name": "stdout",
     "output_type": "stream",
     "text": [
      "Mean Squared Error: 0.32352135771173307\n",
      "R-squared: 0.5958665262685467\n"
     ]
    }
   ],
   "source": [
    "# Split data into training and testing sets\n",
    "np.random.seed(42)\n",
    "X = many_reviews[['number_of_reviews']]\n",
    "y = many_reviews[['review_scores_rating']]\n",
    "X_train, X_test, y_train, y_test = train_test_split(X, y, test_size=0.2)\n",
    "\n",
    "# Fit the model\n",
    "model = LinearRegression()\n",
    "model.fit(X_train, y_train)\n",
    "\n",
    "# Score the model\n",
    "model.score(X_test, y_test)\n",
    "\n",
    "# Make predictions\n",
    "predicted = model.predict(X_test)\n",
    "\n",
    "# Evaluate the model\n",
    "mse = mean_squared_error(y_test, predicted)\n",
    "r2 = r2_score(y_test, predicted)\n",
    "\n",
    "print('Mean Squared Error:', mse)\n",
    "print('R-squared:', r2)\n"
   ]
  },
  {
   "cell_type": "markdown",
   "id": "f9f2f4d9",
   "metadata": {},
   "source": [
    "This indicates that the number of reviews does not impact the review_scores_rating."
   ]
  },
  {
   "cell_type": "markdown",
   "id": "bd7b637d",
   "metadata": {},
   "source": [
    "# Question 3:\n",
    "### Do strict cancellation policies correlate to increased negative reviews?"
   ]
  },
  {
   "cell_type": "code",
   "execution_count": 72,
   "id": "93782a0a",
   "metadata": {},
   "outputs": [
    {
     "data": {
      "text/plain": [
       "strict      1417\n",
       "moderate    1251\n",
       "flexible    1150\n",
       "Name: cancellation_policy, dtype: int64"
      ]
     },
     "execution_count": 72,
     "metadata": {},
     "output_type": "execute_result"
    }
   ],
   "source": [
    "strict_pol = listings_df[['host_id', 'number_of_reviews', 'calculated_host_listings_count', 'review_scores_rating', 'cancellation_policy']]\n",
    "strict_pol.cancellation_policy.value_counts()"
   ]
  },
  {
   "cell_type": "markdown",
   "id": "a6335c48",
   "metadata": {},
   "source": [
    "We will first see if there is any correlation between the number of reviews per listing and the quality of the reviews."
   ]
  },
  {
   "cell_type": "code",
   "execution_count": 79,
   "id": "112eddd3",
   "metadata": {},
   "outputs": [
    {
     "data": {
      "image/png": "[encoded data removed]",
      "text/plain": [
       "<Figure size 432x288 with 1 Axes>"
      ]
     },
     "metadata": {},
     "output_type": "display_data"
    }
   ],
   "source": [
    "strict_df = strict_pol[strict_pol.cancellation_policy == 'strict']\n",
    "moderate_df = strict_pol[strict_pol.cancellation_policy == 'moderate']\n",
    "flexible_df = strict_pol[strict_pol.cancellation_policy == 'flexible']\n",
    "x = strict_df['number_of_reviews']\n",
    "y = strict_df['review_scores_rating']\n",
    "w = moderate_df['number_of_reviews']\n",
    "v = moderate_df['review_scores_rating']\n",
    "u = flexible_df['number_of_reviews']\n",
    "t = flexible_df['review_scores_rating']\n",
    "\n",
    "\n",
    "plt.scatter(w, v)\n",
    "plt.scatter(u, t)\n",
    "plt.scatter(x, y)\n",
    "plt.xlabel('Number of Reviews')\n",
    "plt.ylabel('Quality of Review')\n",
    "plt.show()"
   ]
  },
  {
   "cell_type": "code",
   "execution_count": 89,
   "id": "f0021da7",
   "metadata": {},
   "outputs": [
    {
     "data": {
      "image/png": "[encoded data removed]",
      "text/plain": [
       "<Figure size 432x288 with 1 Axes>"
      ]
     },
     "metadata": {},
     "output_type": "display_data"
    },
    {
     "data": {
      "image/png": "[encoded data removed]",
      "text/plain": [
       "<Figure size 432x288 with 1 Axes>"
      ]
     },
     "metadata": {},
     "output_type": "display_data"
    },
    {
     "data": {
      "image/png": "[encoded data removed]",
      "text/plain": [
       "<Figure size 432x288 with 1 Axes>"
      ]
     },
     "metadata": {},
     "output_type": "display_data"
    }
   ],
   "source": [
    "strict_no_reviews = strict_df.number_of_reviews.value_counts()\n",
    "flexible_no_reviews = flexible_df.number_of_reviews.value_counts()\n",
    "moderate_no_reviews = moderate_df.number_of_reviews.value_counts()\n",
    "\n",
    "strict_no_reviews.plot(kind='bar',  color='red', label='Strict')\n",
    "plt.title('Number of Reviews for Listings under Strict Cancellation Policy')\n",
    "plt.xlabel('Number of Reviews')\n",
    "plt.ylabel('Number of Listings')\n",
    "plt.show()\n",
    "\n",
    "\n",
    "flexible_no_reviews.plot(kind='bar',  color='green', label='Flexible')\n",
    "plt.title('Number of Reviews for Listings under Flexible Cancellation Policy')\n",
    "plt.xlabel('Number of Reviews')\n",
    "plt.ylabel('Number of Listings')\n",
    "plt.show()\n",
    "\n",
    "moderate_no_reviews.plot(kind='bar', color='yellow', label='Moderate')\n",
    "plt.title('Number of Reviews for Listings under Moderate Cancellation Policy')\n",
    "plt.xlabel('Number of Reviews')\n",
    "plt.ylabel('Number of Listings')\n",
    "plt.show()"
   ]
  },
  {
   "cell_type": "markdown",
   "id": "5bab4e27",
   "metadata": {},
   "source": [
    "#### Evaluate the Results"
   ]
  },
  {
   "cell_type": "markdown",
   "id": "25a619fd",
   "metadata": {},
   "source": [
    "From the bar charts, it looks like listings with a flexible or moderate cancellation policy have a higher number of reviews than listings with a strict cancellation policy.However, we cannot say that listings with a strict cancellation policy have a lower number of reviews."
   ]
  },
  {
   "cell_type": "code",
   "execution_count": 100,
   "id": "99c063ac",
   "metadata": {},
   "outputs": [
    {
     "name": "stdout",
     "output_type": "stream",
     "text": [
      "Mean squared error: 0.21700660498645974\n",
      "R squared Score: 0.00045310269230576977\n"
     ]
    }
   ],
   "source": [
    "strict_df = strict_pol.dropna(subset=['cancellation_policy', 'review_scores_rating'])\n",
    "strict_pol_dummies = pd.get_dummies(strict_pol, columns=['cancellation_policy'])\n",
    "X = strict_pol_dummies[['review_scores_rating']]\n",
    "y = strict_pol_dummies[['cancellation_policy_flexible', 'cancellation_policy_moderate', 'cancellation_policy_strict']]\n",
    "linreg = LinearRegression()\n",
    "linreg.fit(X, y)\n",
    "X_train, X_test, y_train, y_test = train_test_split(X, y, random_state=42)\n",
    "model = LinearRegression()\n",
    "model.fit(X_train, y_train)\n",
    "y_pred = model.predict(X_test)\n",
    "print('Mean squared error:', mean_squared_error(y_test, y_pred))\n",
    "print('R squared Score:', r2_score(y_test, y_pred))"
   ]
  },
  {
   "cell_type": "markdown",
   "id": "a58e5d52",
   "metadata": {},
   "source": [
    "The R-squared variance and mean squared error are all very low. This means that quality of reviews doesn't seem very correlated to cancellation policy."
   ]
  },
  {
   "cell_type": "code",
   "execution_count": 102,
   "id": "e5bfe9e4",
   "metadata": {},
   "outputs": [
    {
     "data": {
      "image/png": "[encoded data removed]",
      "text/plain": [
       "<Figure size 432x288 with 1 Axes>"
      ]
     },
     "metadata": {},
     "output_type": "display_data"
    }
   ],
   "source": [
    "strict_pol.cancellation_policy.value_counts().plot.bar();\n"
   ]
  },
  {
   "cell_type": "code",
   "execution_count": 106,
   "id": "b535f937",
   "metadata": {},
   "outputs": [
    {
     "data": {
      "image/png": "[encoded data removed]",
      "text/plain": [
       "<Figure size 432x288 with 1 Axes>"
      ]
     },
     "metadata": {},
     "output_type": "display_data"
    }
   ],
   "source": [
    "plt.scatter(strict_pol['cancellation_policy'], strict_pol['review_scores_rating']);"
   ]
  }
 ],
 "metadata": {
  "kernelspec": {
   "display_name": "Python 3.10.5 64-bit (windows store)",
   "language": "python",
   "name": "python3"
  },
  "language_info": {
   "codemirror_mode": {
    "name": "ipython",
    "version": 3
   },
   "file_extension": ".py",
   "mimetype": "text/x-python",
   "name": "python",
   "nbconvert_exporter": "python",
   "pygments_lexer": "ipython3",
   "version": "3.10.5"
  },
  "vscode": {
   "interpreter": {
    "hash": "148a84543fbb4b93c0316d5972e9a09dc4dcdb97bb558e189241c8493d7f4192"
   }
  }
 },
 "nbformat": 4,
 "nbformat_minor": 5
}
